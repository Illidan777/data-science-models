{
 "cells": [
  {
   "cell_type": "code",
   "execution_count": 2,
   "id": "initial_id",
   "metadata": {
    "collapsed": true,
    "ExecuteTime": {
     "end_time": "2023-11-19T13:16:04.474191885Z",
     "start_time": "2023-11-19T13:16:04.328356380Z"
    }
   },
   "outputs": [
    {
     "name": "stderr",
     "output_type": "stream",
     "text": [
      "/tmp/ipykernel_253250/3576342107.py:6: DtypeWarning: Columns (24,78) have mixed types. Specify dtype option on import or set low_memory=False.\n",
      "  df = pd.read_csv('./data/fifa23_players.csv')\n"
     ]
    },
    {
     "data": {
      "text/plain": "   sofifa_id                                         player_url  \\\n0     158023  https://sofifa.com/player/158023/lionel-messi/...   \n1     188545  https://sofifa.com/player/188545/robert-lewand...   \n2      20801  https://sofifa.com/player/20801/c-ronaldo-dos-...   \n3     190871  https://sofifa.com/player/190871/neymar-da-sil...   \n4     192985  https://sofifa.com/player/192985/kevin-de-bruy...   \n\n          short_name                            long_name player_positions  \\\n0           L. Messi       Lionel Andrés Messi Cuccittini       RW, ST, CF   \n1     R. Lewandowski                   Robert Lewandowski               ST   \n2  Cristiano Ronaldo  Cristiano Ronaldo dos Santos Aveiro           ST, LW   \n3          Neymar Jr        Neymar da Silva Santos Júnior          LW, CAM   \n4       K. De Bruyne                      Kevin De Bruyne          CM, CAM   \n\n   overall  potential    value_eur  wage_eur  age  ... goalkeeping_diving  \\\n0       93         93   78000000.0  320000.0   34  ...                  6   \n1       92         92  119500000.0  270000.0   32  ...                 15   \n2       91         91   45000000.0  270000.0   36  ...                  7   \n3       91         91  129000000.0  270000.0   29  ...                  9   \n4       91         91  125500000.0  350000.0   30  ...                 15   \n\n   goalkeeping_handling  goalkeeping_kicking goalkeeping_positioning  \\\n0                    11                   15                      14   \n1                     6                   12                       8   \n2                    11                   15                      14   \n3                     9                   15                      15   \n4                    13                    5                      10   \n\n   goalkeeping_reflexes goalkeeping_speed  \\\n0                     8               NaN   \n1                    10               NaN   \n2                    11               NaN   \n3                    11               NaN   \n4                    13               NaN   \n\n                                     player_face_url  \\\n0  https://cdn.sofifa.net/players/158/023/22_120.png   \n1  https://cdn.sofifa.net/players/188/545/22_120.png   \n2  https://cdn.sofifa.net/players/020/801/22_120.png   \n3  https://cdn.sofifa.net/players/190/871/22_120.png   \n4  https://cdn.sofifa.net/players/192/985/22_120.png   \n\n                            club_logo_url  \\\n0  https://cdn.sofifa.net/teams/73/60.png   \n1  https://cdn.sofifa.net/teams/21/60.png   \n2  https://cdn.sofifa.net/teams/11/60.png   \n3  https://cdn.sofifa.net/teams/73/60.png   \n4  https://cdn.sofifa.net/teams/10/60.png   \n\n                            nation_logo_url  \\\n0  https://cdn.sofifa.net/teams/1369/60.png   \n1  https://cdn.sofifa.net/teams/1353/60.png   \n2  https://cdn.sofifa.net/teams/1354/60.png   \n3                                       NaN   \n4  https://cdn.sofifa.net/teams/1325/60.png   \n\n                       nation_flag_url  \n0  https://cdn.sofifa.net/flags/ar.png  \n1  https://cdn.sofifa.net/flags/pl.png  \n2  https://cdn.sofifa.net/flags/pt.png  \n3  https://cdn.sofifa.net/flags/br.png  \n4  https://cdn.sofifa.net/flags/be.png  \n\n[5 rows x 80 columns]",
      "text/html": "<div>\n<style scoped>\n    .dataframe tbody tr th:only-of-type {\n        vertical-align: middle;\n    }\n\n    .dataframe tbody tr th {\n        vertical-align: top;\n    }\n\n    .dataframe thead th {\n        text-align: right;\n    }\n</style>\n<table border=\"1\" class=\"dataframe\">\n  <thead>\n    <tr style=\"text-align: right;\">\n      <th></th>\n      <th>sofifa_id</th>\n      <th>player_url</th>\n      <th>short_name</th>\n      <th>long_name</th>\n      <th>player_positions</th>\n      <th>overall</th>\n      <th>potential</th>\n      <th>value_eur</th>\n      <th>wage_eur</th>\n      <th>age</th>\n      <th>...</th>\n      <th>goalkeeping_diving</th>\n      <th>goalkeeping_handling</th>\n      <th>goalkeeping_kicking</th>\n      <th>goalkeeping_positioning</th>\n      <th>goalkeeping_reflexes</th>\n      <th>goalkeeping_speed</th>\n      <th>player_face_url</th>\n      <th>club_logo_url</th>\n      <th>nation_logo_url</th>\n      <th>nation_flag_url</th>\n    </tr>\n  </thead>\n  <tbody>\n    <tr>\n      <th>0</th>\n      <td>158023</td>\n      <td>https://sofifa.com/player/158023/lionel-messi/...</td>\n      <td>L. Messi</td>\n      <td>Lionel Andrés Messi Cuccittini</td>\n      <td>RW, ST, CF</td>\n      <td>93</td>\n      <td>93</td>\n      <td>78000000.0</td>\n      <td>320000.0</td>\n      <td>34</td>\n      <td>...</td>\n      <td>6</td>\n      <td>11</td>\n      <td>15</td>\n      <td>14</td>\n      <td>8</td>\n      <td>NaN</td>\n      <td>https://cdn.sofifa.net/players/158/023/22_120.png</td>\n      <td>https://cdn.sofifa.net/teams/73/60.png</td>\n      <td>https://cdn.sofifa.net/teams/1369/60.png</td>\n      <td>https://cdn.sofifa.net/flags/ar.png</td>\n    </tr>\n    <tr>\n      <th>1</th>\n      <td>188545</td>\n      <td>https://sofifa.com/player/188545/robert-lewand...</td>\n      <td>R. Lewandowski</td>\n      <td>Robert Lewandowski</td>\n      <td>ST</td>\n      <td>92</td>\n      <td>92</td>\n      <td>119500000.0</td>\n      <td>270000.0</td>\n      <td>32</td>\n      <td>...</td>\n      <td>15</td>\n      <td>6</td>\n      <td>12</td>\n      <td>8</td>\n      <td>10</td>\n      <td>NaN</td>\n      <td>https://cdn.sofifa.net/players/188/545/22_120.png</td>\n      <td>https://cdn.sofifa.net/teams/21/60.png</td>\n      <td>https://cdn.sofifa.net/teams/1353/60.png</td>\n      <td>https://cdn.sofifa.net/flags/pl.png</td>\n    </tr>\n    <tr>\n      <th>2</th>\n      <td>20801</td>\n      <td>https://sofifa.com/player/20801/c-ronaldo-dos-...</td>\n      <td>Cristiano Ronaldo</td>\n      <td>Cristiano Ronaldo dos Santos Aveiro</td>\n      <td>ST, LW</td>\n      <td>91</td>\n      <td>91</td>\n      <td>45000000.0</td>\n      <td>270000.0</td>\n      <td>36</td>\n      <td>...</td>\n      <td>7</td>\n      <td>11</td>\n      <td>15</td>\n      <td>14</td>\n      <td>11</td>\n      <td>NaN</td>\n      <td>https://cdn.sofifa.net/players/020/801/22_120.png</td>\n      <td>https://cdn.sofifa.net/teams/11/60.png</td>\n      <td>https://cdn.sofifa.net/teams/1354/60.png</td>\n      <td>https://cdn.sofifa.net/flags/pt.png</td>\n    </tr>\n    <tr>\n      <th>3</th>\n      <td>190871</td>\n      <td>https://sofifa.com/player/190871/neymar-da-sil...</td>\n      <td>Neymar Jr</td>\n      <td>Neymar da Silva Santos Júnior</td>\n      <td>LW, CAM</td>\n      <td>91</td>\n      <td>91</td>\n      <td>129000000.0</td>\n      <td>270000.0</td>\n      <td>29</td>\n      <td>...</td>\n      <td>9</td>\n      <td>9</td>\n      <td>15</td>\n      <td>15</td>\n      <td>11</td>\n      <td>NaN</td>\n      <td>https://cdn.sofifa.net/players/190/871/22_120.png</td>\n      <td>https://cdn.sofifa.net/teams/73/60.png</td>\n      <td>NaN</td>\n      <td>https://cdn.sofifa.net/flags/br.png</td>\n    </tr>\n    <tr>\n      <th>4</th>\n      <td>192985</td>\n      <td>https://sofifa.com/player/192985/kevin-de-bruy...</td>\n      <td>K. De Bruyne</td>\n      <td>Kevin De Bruyne</td>\n      <td>CM, CAM</td>\n      <td>91</td>\n      <td>91</td>\n      <td>125500000.0</td>\n      <td>350000.0</td>\n      <td>30</td>\n      <td>...</td>\n      <td>15</td>\n      <td>13</td>\n      <td>5</td>\n      <td>10</td>\n      <td>13</td>\n      <td>NaN</td>\n      <td>https://cdn.sofifa.net/players/192/985/22_120.png</td>\n      <td>https://cdn.sofifa.net/teams/10/60.png</td>\n      <td>https://cdn.sofifa.net/teams/1325/60.png</td>\n      <td>https://cdn.sofifa.net/flags/be.png</td>\n    </tr>\n  </tbody>\n</table>\n<p>5 rows × 80 columns</p>\n</div>"
     },
     "execution_count": 2,
     "metadata": {},
     "output_type": "execute_result"
    }
   ],
   "source": [
    "import numpy as np\n",
    "import pandas as pd\n",
    "import matplotlib.pyplot as plt\n",
    "import seaborn as sns\n",
    "\n",
    "df = pd.read_csv('./data/fifa23_players.csv')\n",
    "df.head()"
   ]
  },
  {
   "cell_type": "code",
   "execution_count": 3,
   "outputs": [],
   "source": [
    "# First of all, it would be good to make short description for all columns.\n",
    "\n",
    "# sofifa_id - player id\n",
    "# player_url - player page url (link)\n",
    "# short_name - player short name\n",
    "# long_name - player long name\n",
    "# player_positions - general player positions\n",
    "# overall - general player rate (0 to 99)\n",
    "# potential - potential player rate\n",
    "# value_eur - player value\n",
    "# wage_eur - player salary\n",
    "# age - player age\n",
    "# dob - player date of birth\n",
    "# height_cm - player height\n",
    "# weight_kg - player weight\n",
    "# club_position - player club position\n",
    "# club_team_id - club id\n",
    "# club_name - club name\n",
    "# league_name - league name\n",
    "# league_level - league level (0 - 5)\n",
    "# club_loaned_from - is there a football player on a loan and from which club\n",
    "# club_joined - date where player signed the contract with the current club\n",
    "# club_jersey_number - current personal number in the current club (0-99) not necessary \n",
    "# correlation analyze\n",
    "# club_contract_valid_until - the date until which the contract is valid\n",
    "# nationality_name - player nationality\n",
    "# nation_team_id - country team id in which player can take part\n",
    "# nation_position - position in country team in which player can take part\n",
    "# nation_jersey_number - personal number in country team in which player can take part\n",
    "# preferred_foot - main foot (left/right)\n",
    "# weak_foot - skill to manage week foot (0 - 5)\n",
    "# skill_moves - skill moves (0 - 5)\n",
    "# international_reputation - internation reputation (0 - 5)\n",
    "# work_rate\n",
    "# body_type - text body description\n",
    "# release_clause_eur - the purchase price of the player from the club\n",
    "# player_tags - short player text description as a player in tag format #dribbler\n",
    "# player_traits - short player text description as a player\n",
    "\n",
    "#Skiils (0 - 99)\n",
    "\n",
    "# pace - The player's speed and acceleration on the field.\n",
    "# shooting - The ability to take accurate and powerful shots on goal.\n",
    "# passing - Precision and effectiveness in distributing the ball to teammates.\n",
    "# dribbling - Skill in maneuvering the ball while navigating through opponents.\n",
    "# defending - The player's ability to prevent the opposing team from advancing.\n",
    "# physic - Overall physical strength and presence on the field.\n",
    "# attacking_crossing - The accuracy and quality of crosses into the opponent's box.\n",
    "# attacking_finishing: The proficiency in scoring goals, especially in one-on-one \n",
    "# situations.\n",
    "# attacking_Heading_Accuracy - The accuracy and power of a player's headers.\n",
    "# attacking_Short_Passing - Precision in short-distance passes.\n",
    "# attacking_Volleys - Skill in striking the ball before it touches the ground.\n",
    "# skill_Dribbling - Advanced dribbling techniques, showcasing flair and creativity.\n",
    "# skill_Curve - The ability to curve the ball in mid-air, useful for free-kicks and \n",
    "# shots.\n",
    "# skill_FK_Accuracy - Accuracy and precision in free-kick situations.\n",
    "# skill_Long_Passing - Proficiency in accurate long-distance passes.\n",
    "# skill_Ball_Control - Control and manipulation of the ball with feet.\n",
    "# movement_Acceleration - The speed at which a player reaches their top speed.\n",
    "# movement_Sprint_Speed - Maximum speed a player can reach while sprinting.\n",
    "# movement_Agility - Nimbleness and quick change of direction.\n",
    "# movement_Reactions - How quickly a player reacts to changes on the field.\n",
    "# movement_Balance - The ability to maintain balance, especially in challenging \n",
    "# situations.\n",
    "# power_Jumping - Vertical jump height and heading ability.\n",
    "# power_Stamina - Endurance and stamina throughout the match.\n",
    "# power_Strength - Physical strength and ability to hold off opponents.\n",
    "# power_Long_Shots - Ability to take powerful and accurate shots from a distance.\n",
    "# mentality_Aggression - The player's assertiveness and aggressiveness on the field.\n",
    "# mentality_Interceptions - Anticipation and ability to intercept passes.\n",
    "# mentality_Positioning - Strategic positioning on the field, both offensively and \n",
    "# defensively.\n",
    "# mentality_Vision - Awareness of the entire field and strategic vision.\n",
    "# mentality_Penalties - Composure and accuracy in penalty situations.\n",
    "# mentality_Composure - Ability to stay calm and composed, especially under pressure.\n",
    "# defending_Marking_Awareness - Awareness and effectiveness in marking opposing players.\n",
    "# defending_Standing_Tackle - Skill in making standing tackles to regain possession.\n",
    "# defending_Sliding_Tackle - Effectiveness and timing in sliding tackles.\n",
    "# goalkeeping_Diving - Goalkeeper's ability to make diving saves.\n",
    "# goalkeeping_Handling - Skill in handling and securing the ball after a save.\n",
    "# goalkeeping_Kicking - Accuracy and power in goal kicks and long clearances.\n",
    "# goalkeeping_Positioning - Proper positioning of the goalkeeper to cover the goal \n",
    "# effectively.\n",
    "# goalkeeping_Reflexes - Quick reactions and reflexes in responding to shots.\n",
    "# goalkeeping_Speed - Swiftness in movement and decision-making for a goalkeeper.\n",
    "\n",
    "# player_face_url - link to player face\n",
    "# club_logo_url - link to player's club logo\n",
    "# nation_logo_url - link to player's nation logo\n",
    "# nation_flag_url - link to player's nation flag logo"
   ],
   "metadata": {
    "collapsed": false,
    "ExecuteTime": {
     "end_time": "2023-11-19T13:16:18.354397699Z",
     "start_time": "2023-11-19T13:16:18.307863717Z"
    }
   },
   "id": "3efea0e579919d0"
  },
  {
   "cell_type": "code",
   "execution_count": null,
   "outputs": [],
   "source": [
    "# RCB (Right Center Back): Правый центральный защитник. Это игрок, обычно расположенный в центре обороны с правой стороны. Его основная задача - предотвращать атаки соперников и защищать ворота своей команды.\n",
    "# \n",
    "# LS (Left Striker): Левый нападающий. Это игрок, чья основная задача - забивать голы. Нападающие часто являются ключевыми фигурами в атаках команды.\n",
    "# \n",
    "# GK (Goalkeeper): Вратарь. Он стоит в воротах и защищает их от ударов соперников. Вратари также играют важную роль в организации обороны.\n",
    "# \n",
    "# LCB (Left Center Back): Левый центральный защитник. Аналогично RCB, но расположен слева в центре обороны.\n",
    "# \n",
    "# RB (Right Back): Правый защитник. Он играет по краю поля справа и обязан как защищать, так и участвовать в атаках, поддерживая фланговые игры.\n",
    "# \n",
    "# LB (Left Back): Левый защитник. Аналогично RB, но расположен слева на поле.\n",
    "# \n",
    "# RS (Right Striker): Правый нападающий. Аналогично LS, но расположен справа.\n",
    "# \n",
    "# RM (Right Midfielder): Правый полузащитник. Он играет по правому краю середины поля, поддерживая как оборону, так и атаку.\n",
    "# \n",
    "# CAM (Central Attacking Midfielder): Центральный атакующий полузащитник. Он обычно располагается в центре поля и отвечает за создание моментов для атакующих.\n",
    "# \n",
    "# SUB (Substitute): Запасной игрок. Это игрок, находящийся на скамейке запасных. Он может заменить другого игрока в течение матча.\n",
    "# \n",
    "# LM (Left Midfielder): Левый полузащитник. Он играет по левому краю середины поля, поддерживая команду в атаках и обороне.\n",
    "# \n",
    "# CDM (Central Defensive Midfielder): Центральный опорный полузащитник. Он находится в центре поля и обычно отвечает за защиту и перехват мячей.\n",
    "# \n",
    "# RES (Reserve): Резерв. Это, вероятно, относится к запасным игрокам, которые не включены в стартовый состав, но могут быть использованы в течение матча в случае необходимости."
   ],
   "metadata": {
    "collapsed": false
   },
   "id": "44deada6400227b0"
  }
 ],
 "metadata": {
  "kernelspec": {
   "display_name": "Python 3",
   "language": "python",
   "name": "python3"
  },
  "language_info": {
   "codemirror_mode": {
    "name": "ipython",
    "version": 2
   },
   "file_extension": ".py",
   "mimetype": "text/x-python",
   "name": "python",
   "nbconvert_exporter": "python",
   "pygments_lexer": "ipython2",
   "version": "2.7.6"
  }
 },
 "nbformat": 4,
 "nbformat_minor": 5
}
